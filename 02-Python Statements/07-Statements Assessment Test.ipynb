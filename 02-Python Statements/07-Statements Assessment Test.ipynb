{
 "cells": [
  {
   "cell_type": "markdown",
   "metadata": {
    "collapsed": true
   },
   "source": [
    "# Statements Assessment Test\n",
    "Let's test your knowledge!"
   ]
  },
  {
   "cell_type": "markdown",
   "metadata": {},
   "source": [
    "_____\n",
    "**Use <code>for</code>, .split(), and <code>if</code> to create a Statement that will print out words that start with 's':**"
   ]
  },
  {
   "cell_type": "code",
   "execution_count": 1,
   "metadata": {},
   "outputs": [],
   "source": [
    "st = 'Print only the words that start with s in this sentence'"
   ]
  },
  {
   "cell_type": "code",
   "execution_count": 15,
   "metadata": {},
   "outputs": [
    {
     "name": "stdout",
     "output_type": "stream",
     "text": [
      "['start', 's', 'sentence']\n"
     ]
    }
   ],
   "source": [
    "#Code here\n",
    "list1=st.split()\n",
    "list2=[]\n",
    "for word in list1:\n",
    "    #print(word)\n",
    "    str2=str(word)\n",
    "    if str2[0]=='s':\n",
    "        list2.append(word)\n",
    "print(list2)\n",
    "        "
   ]
  },
  {
   "cell_type": "markdown",
   "metadata": {},
   "source": [
    "______\n",
    "**Use range() to print all the even numbers from 0 to 10.**"
   ]
  },
  {
   "cell_type": "code",
   "execution_count": 18,
   "metadata": {},
   "outputs": [
    {
     "name": "stdout",
     "output_type": "stream",
     "text": [
      "[0, 2, 4, 6, 8]\n"
     ]
    }
   ],
   "source": [
    "#Code Here\n",
    "enum=[]\n",
    "for num in range(0,10):\n",
    "    if num%2==0:\n",
    "        enum.append(num)\n",
    "print(enum)"
   ]
  },
  {
   "cell_type": "markdown",
   "metadata": {},
   "source": [
    "___\n",
    "**Use a List Comprehension to create a list of all numbers between 1 and 50 that are divisible by 3.**"
   ]
  },
  {
   "cell_type": "code",
   "execution_count": 22,
   "metadata": {},
   "outputs": [
    {
     "data": {
      "text/plain": [
       "[3, 6, 9, 12, 15, 18, 21, 24, 27, 30, 33, 36, 39, 42, 45, 48]"
      ]
     },
     "execution_count": 22,
     "metadata": {},
     "output_type": "execute_result"
    }
   ],
   "source": [
    "#Code in this cell\n",
    "list_com=[num for num in range(1,50) if num%3==0]\n",
    "list_com"
   ]
  },
  {
   "cell_type": "markdown",
   "metadata": {},
   "source": [
    "_____\n",
    "**Go through the string below and if the length of a word is even print \"even!\"**"
   ]
  },
  {
   "cell_type": "code",
   "execution_count": 25,
   "metadata": {},
   "outputs": [
    {
     "name": "stdout",
     "output_type": "stream",
     "text": [
      "word is even :length is 4\n",
      "in is even :length is 2\n",
      "this is even :length is 4\n",
      "sentence is even :length is 8\n",
      "that is even :length is 4\n",
      "an is even :length is 2\n",
      "even is even :length is 4\n",
      "number is even :length is 6\n",
      "of is even :length is 2\n"
     ]
    }
   ],
   "source": [
    "st = 'Print every word in this sentence that has an even number of letters'\n",
    "list1=st.split()\n",
    "for word in list1:\n",
    "    if len(word)%2==0:\n",
    "        print(f'{word} is even :length is {len(word)}')"
   ]
  },
  {
   "cell_type": "code",
   "execution_count": null,
   "metadata": {},
   "outputs": [],
   "source": [
    "#Code in this cell"
   ]
  },
  {
   "cell_type": "markdown",
   "metadata": {},
   "source": [
    "____\n",
    "**Write a program that prints the integers from 1 to 100. But for multiples of three print \"Fizz\" instead of the number, and for the multiples of five print \"Buzz\". For numbers which are multiples of both three and five print \"FizzBuzz\".**"
   ]
  },
  {
   "cell_type": "code",
   "execution_count": 30,
   "metadata": {},
   "outputs": [
    {
     "name": "stdout",
     "output_type": "stream",
     "text": [
      "Fuzz\n",
      "Buzz\n",
      "Fuzz\n",
      "Fuzz\n",
      "Buzz\n",
      "Fuzz\n",
      "FizzBuzz\n",
      "Fuzz\n",
      "Buzz\n",
      "Fuzz\n",
      "Fuzz\n",
      "Buzz\n",
      "Fuzz\n",
      "FizzBuzz\n",
      "Fuzz\n",
      "Buzz\n",
      "Fuzz\n",
      "Fuzz\n",
      "Buzz\n",
      "Fuzz\n",
      "FizzBuzz\n",
      "Fuzz\n",
      "Buzz\n",
      "Fuzz\n",
      "Fuzz\n",
      "Buzz\n",
      "Fuzz\n",
      "FizzBuzz\n",
      "Fuzz\n",
      "Buzz\n",
      "Fuzz\n",
      "Fuzz\n",
      "Buzz\n",
      "Fuzz\n",
      "FizzBuzz\n",
      "Fuzz\n",
      "Buzz\n",
      "Fuzz\n",
      "Fuzz\n",
      "Buzz\n",
      "Fuzz\n",
      "FizzBuzz\n",
      "Fuzz\n",
      "Buzz\n",
      "Fuzz\n",
      "Fuzz\n"
     ]
    }
   ],
   "source": [
    "#Code in this cell\n",
    "listft=[]\n",
    "for num in range(1,100):\n",
    "    if (num%5==0 and num%3==0):\n",
    "        print('FizzBuzz')\n",
    "        listft.append(num)\n",
    "    elif num%3==0:\n",
    "        print('Fuzz')\n",
    "    elif num%5==0:\n",
    "        print('Buzz')\n",
    "        \n",
    "    \n",
    "    "
   ]
  },
  {
   "cell_type": "markdown",
   "metadata": {},
   "source": [
    "____\n",
    "**Use List Comprehension to create a list of the first letters of every word in the string below:**"
   ]
  },
  {
   "cell_type": "code",
   "execution_count": 34,
   "metadata": {},
   "outputs": [],
   "source": [
    "st = 'Create a list of the first letters of every word in this string'"
   ]
  },
  {
   "cell_type": "code",
   "execution_count": 35,
   "metadata": {},
   "outputs": [
    {
     "name": "stdout",
     "output_type": "stream",
     "text": [
      "['C', 'a', 'l', 'o', 't', 'f', 'l', 'o', 'e', 'w', 'i', 't', 's']\n"
     ]
    }
   ],
   "source": [
    "#Code in this cell\n",
    "list1=st.split()\n",
    "list2=[]\n",
    "for word in list1:\n",
    "    st1=str(word)\n",
    "    list2.append(st1[0])\n",
    "print(list2)\n",
    "    "
   ]
  },
  {
   "cell_type": "markdown",
   "metadata": {},
   "source": [
    "### Great Job!"
   ]
  }
 ],
 "metadata": {
  "kernelspec": {
   "display_name": "Python 3",
   "language": "python",
   "name": "python3"
  },
  "language_info": {
   "codemirror_mode": {
    "name": "ipython",
    "version": 3
   },
   "file_extension": ".py",
   "mimetype": "text/x-python",
   "name": "python",
   "nbconvert_exporter": "python",
   "pygments_lexer": "ipython3",
   "version": "3.6.5"
  }
 },
 "nbformat": 4,
 "nbformat_minor": 1
}
